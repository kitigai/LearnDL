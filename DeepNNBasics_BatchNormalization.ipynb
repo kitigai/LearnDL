{
  "nbformat": 4,
  "nbformat_minor": 0,
  "metadata": {
    "colab": {
      "name": "DeepNNBasics_BatchNormalization.ipynb",
      "provenance": [],
      "collapsed_sections": [],
      "authorship_tag": "ABX9TyNl9bWkKmOWKvslI+lEg7Em",
      "include_colab_link": true
    },
    "kernelspec": {
      "name": "python3",
      "display_name": "Python 3"
    }
  },
  "cells": [
    {
      "cell_type": "markdown",
      "metadata": {
        "id": "view-in-github",
        "colab_type": "text"
      },
      "source": [
        "<a href=\"https://colab.research.google.com/github/kitigai/LearnDL/blob/master/DeepNNBasics_BatchNormalization.ipynb\" target=\"_parent\"><img src=\"https://colab.research.google.com/assets/colab-badge.svg\" alt=\"Open In Colab\"/></a>"
      ]
    },
    {
      "cell_type": "markdown",
      "metadata": {
        "id": "Q3TPUvMA7x_I",
        "colab_type": "text"
      },
      "source": [
        "![alt text](https://drive.google.com/uc?id=1wAc2z2MujKT3dPoP8Ts8oq2pCx4EFmeo)\n",
        "\n",
        "Normalization technique Normalizes Mean and Variant in Input layers and improve learning speed. Batch Normalization allows using normalization not only input layer but also any other layers. \n"
      ]
    },
    {
      "cell_type": "markdown",
      "metadata": {
        "id": "UVE_YBY-8C51",
        "colab_type": "text"
      },
      "source": [
        "# New Section"
      ]
    },
    {
      "cell_type": "code",
      "metadata": {
        "id": "DF3599UpNuI5",
        "colab_type": "code",
        "outputId": "1190bbb5-8431-43b9-9142-022b662fd488",
        "colab": {
          "base_uri": "https://localhost:8080/",
          "height": 51
        }
      },
      "source": [
        "# TensorFlow and tf.keras\n",
        "import tensorflow as tf\n",
        "from tensorflow import keras\n",
        "from keras import regularizers\n",
        "\n",
        "# Helper libraries\n",
        "import numpy as np\n",
        "import matplotlib.pyplot as plt\n",
        "\n",
        "print(tf.__version__)"
      ],
      "execution_count": 2,
      "outputs": [
        {
          "output_type": "stream",
          "text": [
            "2.2.0\n"
          ],
          "name": "stdout"
        },
        {
          "output_type": "stream",
          "text": [
            "Using TensorFlow backend.\n"
          ],
          "name": "stderr"
        }
      ]
    },
    {
      "cell_type": "code",
      "metadata": {
        "id": "0xfr0dg6OAzu",
        "colab_type": "code",
        "outputId": "af10fba8-9f6e-429c-ce70-4876d2884ac8",
        "colab": {
          "base_uri": "https://localhost:8080/",
          "height": 170
        }
      },
      "source": [
        "#load data sample\n",
        "fashion_mnist = keras.datasets.fashion_mnist\n",
        "\n",
        "(train_images, train_labels), (test_images, test_labels) = fashion_mnist.load_data()\n",
        "\n",
        "train_images.shape"
      ],
      "execution_count": 3,
      "outputs": [
        {
          "output_type": "stream",
          "text": [
            "Downloading data from https://storage.googleapis.com/tensorflow/tf-keras-datasets/train-labels-idx1-ubyte.gz\n",
            "32768/29515 [=================================] - 0s 0us/step\n",
            "Downloading data from https://storage.googleapis.com/tensorflow/tf-keras-datasets/train-images-idx3-ubyte.gz\n",
            "26427392/26421880 [==============================] - 0s 0us/step\n",
            "Downloading data from https://storage.googleapis.com/tensorflow/tf-keras-datasets/t10k-labels-idx1-ubyte.gz\n",
            "8192/5148 [===============================================] - 0s 0us/step\n",
            "Downloading data from https://storage.googleapis.com/tensorflow/tf-keras-datasets/t10k-images-idx3-ubyte.gz\n",
            "4423680/4422102 [==============================] - 0s 0us/step\n"
          ],
          "name": "stdout"
        },
        {
          "output_type": "execute_result",
          "data": {
            "text/plain": [
              "(60000, 28, 28)"
            ]
          },
          "metadata": {
            "tags": []
          },
          "execution_count": 3
        }
      ]
    },
    {
      "cell_type": "code",
      "metadata": {
        "id": "GOvdErBIOsWI",
        "colab_type": "code",
        "colab": {}
      },
      "source": [
        "class_names = ['T-shirt/top', 'Trouser', 'Pullover', 'Dress', 'Coat',\n",
        "               'Sandal', 'Shirt', 'Sneaker', 'Bag', 'Ankle boot']\n"
      ],
      "execution_count": 0,
      "outputs": []
    },
    {
      "cell_type": "code",
      "metadata": {
        "id": "QeBMkJBAaLVe",
        "colab_type": "code",
        "outputId": "4c53dff3-97b8-4b02-c928-136d3da55f90",
        "colab": {
          "base_uri": "https://localhost:8080/",
          "height": 265
        }
      },
      "source": [
        "#plot sample image\n",
        "plt.figure()\n",
        "plt.imshow(train_images[0])\n",
        "plt.colorbar()\n",
        "plt.grid(False)\n",
        "plt.show()"
      ],
      "execution_count": 5,
      "outputs": [
        {
          "output_type": "display_data",
          "data": {
            "image/png": "[encoded data removed]",
            "text/plain": [
              "<Figure size 432x288 with 2 Axes>"
            ]
          },
          "metadata": {
            "tags": [],
            "needs_background": "light"
          }
        }
      ]
    },
    {
      "cell_type": "code",
      "metadata": {
        "id": "XXEQFoaKaQjK",
        "colab_type": "code",
        "colab": {}
      },
      "source": [
        "#shift image values between 0 and 1\n",
        "train_images = train_images / 255.0\n",
        "test_images = test_images / 255.0"
      ],
      "execution_count": 0,
      "outputs": []
    },
    {
      "cell_type": "code",
      "metadata": {
        "id": "oqFjykw9bKjz",
        "colab_type": "code",
        "colab": {}
      },
      "source": [
        "#build model that has 1 hidden layer with 128 nodes and has 10 classes output\n",
        "# apply Dropout to hidden layer to reduce overfitting\n",
        "model = keras.Sequential([\n",
        "    keras.layers.Flatten(input_shape=(28, 28)),\n",
        "    keras.layers.Dense(128, activation='relu'),\n",
        "    keras.layers.Dense(10)\n",
        "])\n",
        "#compile\n",
        "model.compile(\n",
        "              loss=tf.keras.losses.SparseCategoricalCrossentropy(from_logits=True),\n",
        "              metrics=['accuracy'])"
      ],
      "execution_count": 0,
      "outputs": []
    },
    {
      "cell_type": "code",
      "metadata": {
        "id": "9RuUA3UfcmIB",
        "colab_type": "code",
        "outputId": "82eaddf7-f636-4301-c1fd-fd96d801e662",
        "colab": {
          "base_uri": "https://localhost:8080/",
          "height": 281
        }
      },
      "source": [
        "#train model\n",
        "history = model.fit(train_images, train_labels, epochs=10, verbose=0)\n",
        "plt.plot(np.squeeze(history.history[\"loss\"]))\n",
        "plt.title(\"Non Optimized\")\n",
        "plt.show()"
      ],
      "execution_count": 36,
      "outputs": [
        {
          "output_type": "display_data",
          "data": {
            "image/png": "[encoded data removed]",
            "text/plain": [
              "<Figure size 432x288 with 1 Axes>"
            ]
          },
          "metadata": {
            "tags": [],
            "needs_background": "light"
          }
        }
      ]
    },
    {
      "cell_type": "code",
      "metadata": {
        "id": "WaZ8PXRpcn8_",
        "colab_type": "code",
        "outputId": "83b27d17-cfb9-4c9f-f7e9-860c45fbf346",
        "colab": {
          "base_uri": "https://localhost:8080/",
          "height": 85
        }
      },
      "source": [
        "# accuracy test\n",
        "test_loss, test_acc = model.evaluate(test_images,  test_labels, verbose=2)\n",
        "\n",
        "print('\\nUnOptimized \\nTest accuracy:', test_acc)\n"
      ],
      "execution_count": 37,
      "outputs": [
        {
          "output_type": "stream",
          "text": [
            "313/313 - 0s - loss: 0.4251 - accuracy: 0.8734\n",
            "\n",
            "UnOptimized \n",
            "Test accuracy: 0.8733999729156494\n"
          ],
          "name": "stdout"
        }
      ]
    },
    {
      "cell_type": "code",
      "metadata": {
        "id": "17NS1ygxWGP-",
        "colab_type": "code",
        "colab": {
          "base_uri": "https://localhost:8080/",
          "height": 349
        },
        "outputId": "133e9142-a93c-49e7-e3d0-24b51bfe863e"
      },
      "source": [
        "# make model with adam optimization\n",
        "adam_model = keras.Sequential([\n",
        "    keras.layers.Flatten(input_shape=(28, 28)),\n",
        "    keras.layers.Dense(128, activation='relu'),\n",
        "    keras.layers.Dense(10)\n",
        "])\n",
        "#compile\n",
        "adam_model.compile(optimizer=\"adam\",\n",
        "              loss=tf.keras.losses.SparseCategoricalCrossentropy(from_logits=True),\n",
        "              metrics=['accuracy'])\n",
        "\n",
        "#train model\n",
        "history = adam_model.fit(train_images, train_labels, epochs=10, verbose=0)\n",
        "plt.plot(np.squeeze(history.history[\"loss\"]))\n",
        "plt.title(\"Adam Optimized\")\n",
        "plt.show()\n",
        "# accuracy test\n",
        "test_loss, test_acc = adam_model.evaluate(test_images,  test_labels, verbose=2)\n",
        "print('\\nUnOptimized \\nTest accuracy:', test_acc)"
      ],
      "execution_count": 38,
      "outputs": [
        {
          "output_type": "display_data",
          "data": {
            "image/png": "[encoded data removed]",
            "text/plain": [
              "<Figure size 432x288 with 1 Axes>"
            ]
          },
          "metadata": {
            "tags": [],
            "needs_background": "light"
          }
        },
        {
          "output_type": "stream",
          "text": [
            "313/313 - 0s - loss: 0.3339 - accuracy: 0.8881\n",
            "\n",
            "UnOptimized \n",
            "Test accuracy: 0.8881000280380249\n"
          ],
          "name": "stdout"
        }
      ]
    },
    {
      "cell_type": "code",
      "metadata": {
        "colab_type": "code",
        "id": "qYxDrTxZeDnq",
        "colab": {
          "base_uri": "https://localhost:8080/",
          "height": 349
        },
        "outputId": "670a3a32-3636-414c-dd0f-fb9fb9c72275"
      },
      "source": [
        "# make model with RMProp optimization\n",
        "rmprop_model = keras.Sequential([\n",
        "    keras.layers.Flatten(input_shape=(28, 28)),\n",
        "    keras.layers.Dense(128, activation='relu'),\n",
        "    keras.layers.Dense(10)\n",
        "])\n",
        "#compile\n",
        "rmprop_model.compile(optimizer=\"RMSprop\",\n",
        "              loss=tf.keras.losses.SparseCategoricalCrossentropy(from_logits=True),\n",
        "              metrics=['accuracy'])\n",
        "#train model\n",
        "history = rmprop_model.fit(train_images, train_labels, epochs=10, verbose=0)\n",
        "plt.plot(np.squeeze(history.history[\"loss\"]))\n",
        "plt.title(\"RMP Optimized\")\n",
        "plt.show()\n",
        "# accuracy test\n",
        "test_loss, test_acc = rmprop_model.evaluate(test_images,  test_labels, verbose=2)\n",
        "print('\\nUnOptimized \\nTest accuracy:', test_acc)"
      ],
      "execution_count": 39,
      "outputs": [
        {
          "output_type": "display_data",
          "data": {
            "image/png": "[encoded data removed]",
            "text/plain": [
              "<Figure size 432x288 with 1 Axes>"
            ]
          },
          "metadata": {
            "tags": [],
            "needs_background": "light"
          }
        },
        {
          "output_type": "stream",
          "text": [
            "313/313 - 0s - loss: 0.4297 - accuracy: 0.8739\n",
            "\n",
            "UnOptimized \n",
            "Test accuracy: 0.8738999962806702\n"
          ],
          "name": "stdout"
        }
      ]
    },
    {
      "cell_type": "code",
      "metadata": {
        "id": "GzTwvb3ZdubA",
        "colab_type": "code",
        "outputId": "4acb731a-e09f-4b13-80f3-3080586961af",
        "colab": {
          "base_uri": "https://localhost:8080/",
          "height": 281
        }
      },
      "source": [
        "# make predict\n",
        "probability_model = tf.keras.Sequential([model, \n",
        "                                         tf.keras.layers.Softmax()])\n",
        "predictions = probability_model.predict(test_images)\n",
        "title = class_names[np.argmax(predictions[0])]\n",
        "plt.figure()\n",
        "plt.title(title)\n",
        "plt.imshow(test_images[0])\n",
        "plt.show()"
      ],
      "execution_count": 10,
      "outputs": [
        {
          "output_type": "display_data",
          "data": {
            "image/png": "[encoded data removed]",
            "text/plain": [
              "<Figure size 432x288 with 1 Axes>"
            ]
          },
          "metadata": {
            "tags": [],
            "needs_background": "light"
          }
        }
      ]
    },
    {
      "cell_type": "code",
      "metadata": {
        "id": "VLewgq3lfSAi",
        "colab_type": "code",
        "colab": {}
      },
      "source": [
        ""
      ],
      "execution_count": 0,
      "outputs": []
    }
  ]
}