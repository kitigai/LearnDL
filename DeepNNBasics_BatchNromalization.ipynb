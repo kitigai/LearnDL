{
  "nbformat": 4,
  "nbformat_minor": 0,
  "metadata": {
    "colab": {
      "name": "DeepNNBasics_BatchNromalization.ipynb",
      "provenance": [],
      "collapsed_sections": [],
      "authorship_tag": "ABX9TyPClIjoimCHCy5LYsGGH+XJ",
      "include_colab_link": true
    },
    "kernelspec": {
      "name": "python3",
      "display_name": "Python 3"
    }
  },
  "cells": [
    {
      "cell_type": "markdown",
      "metadata": {
        "id": "view-in-github",
        "colab_type": "text"
      },
      "source": [
        "<a href=\"https://colab.research.google.com/github/kitigai/LearnDL/blob/master/DeepNNBasics_BatchNromalization.ipynb\" target=\"_parent\"><img src=\"https://colab.research.google.com/assets/colab-badge.svg\" alt=\"Open In Colab\"/></a>"
      ]
    },
    {
      "cell_type": "markdown",
      "metadata": {
        "id": "Q3TPUvMA7x_I",
        "colab_type": "text"
      },
      "source": [
        "![alt text](https://drive.google.com/uc?id=1wAc2z2MujKT3dPoP8Ts8oq2pCx4EFmeo)\n",
        "\n",
        "Normalization technique Normalizes Mean and Variant in Input layers and improve learning speed. Batch Normalization allows using normalization not only input layer but also any other layers. \n"
      ]
    },
    {
      "cell_type": "markdown",
      "metadata": {
        "id": "UVE_YBY-8C51",
        "colab_type": "text"
      },
      "source": [
        "# New Section"
      ]
    },
    {
      "cell_type": "code",
      "metadata": {
        "id": "DF3599UpNuI5",
        "colab_type": "code",
        "outputId": "40708af1-397d-411a-d66c-8b307688858d",
        "colab": {
          "base_uri": "https://localhost:8080/",
          "height": 51
        }
      },
      "source": [
        "# TensorFlow and tf.keras\n",
        "import tensorflow as tf\n",
        "from tensorflow import keras\n",
        "from keras import regularizers\n",
        "\n",
        "# Helper libraries\n",
        "import numpy as np\n",
        "import matplotlib.pyplot as plt\n",
        "\n",
        "print(tf.__version__)"
      ],
      "execution_count": 0,
      "outputs": [
        {
          "output_type": "stream",
          "text": [
            "2.2.0\n"
          ],
          "name": "stdout"
        },
        {
          "output_type": "stream",
          "text": [
            "Using TensorFlow backend.\n"
          ],
          "name": "stderr"
        }
      ]
    },
    {
      "cell_type": "code",
      "metadata": {
        "id": "0xfr0dg6OAzu",
        "colab_type": "code",
        "outputId": "24e7d993-ec09-4e86-cf4b-eadfd5595680",
        "colab": {
          "base_uri": "https://localhost:8080/",
          "height": 170
        }
      },
      "source": [
        "#load data sample\n",
        "fashion_mnist = keras.datasets.fashion_mnist\n",
        "\n",
        "(train_images, train_labels), (test_images, test_labels) = fashion_mnist.load_data()\n",
        "\n",
        "train_images.shape"
      ],
      "execution_count": 0,
      "outputs": [
        {
          "output_type": "stream",
          "text": [
            "Downloading data from https://storage.googleapis.com/tensorflow/tf-keras-datasets/train-labels-idx1-ubyte.gz\n",
            "32768/29515 [=================================] - 0s 0us/step\n",
            "Downloading data from https://storage.googleapis.com/tensorflow/tf-keras-datasets/train-images-idx3-ubyte.gz\n",
            "26427392/26421880 [==============================] - 0s 0us/step\n",
            "Downloading data from https://storage.googleapis.com/tensorflow/tf-keras-datasets/t10k-labels-idx1-ubyte.gz\n",
            "8192/5148 [===============================================] - 0s 0us/step\n",
            "Downloading data from https://storage.googleapis.com/tensorflow/tf-keras-datasets/t10k-images-idx3-ubyte.gz\n",
            "4423680/4422102 [==============================] - 0s 0us/step\n"
          ],
          "name": "stdout"
        },
        {
          "output_type": "execute_result",
          "data": {
            "text/plain": [
              "(60000, 28, 28)"
            ]
          },
          "metadata": {
            "tags": []
          },
          "execution_count": 4
        }
      ]
    },
    {
      "cell_type": "code",
      "metadata": {
        "id": "GOvdErBIOsWI",
        "colab_type": "code",
        "colab": {}
      },
      "source": [
        "class_names = ['T-shirt/top', 'Trouser', 'Pullover', 'Dress', 'Coat',\n",
        "               'Sandal', 'Shirt', 'Sneaker', 'Bag', 'Ankle boot']\n"
      ],
      "execution_count": 0,
      "outputs": []
    },
    {
      "cell_type": "code",
      "metadata": {
        "id": "QeBMkJBAaLVe",
        "colab_type": "code",
        "outputId": "f2114c48-3779-4898-ebb0-6baac7a9b950",
        "colab": {
          "base_uri": "https://localhost:8080/",
          "height": 265
        }
      },
      "source": [
        "#plot sample image\n",
        "plt.figure()\n",
        "plt.imshow(train_images[0])\n",
        "plt.colorbar()\n",
        "plt.grid(False)\n",
        "plt.show()"
      ],
      "execution_count": 0,
      "outputs": [
        {
          "output_type": "display_data",
          "data": {
            "image/png": "[encoded data removed]",
            "text/plain": [
              "<Figure size 432x288 with 2 Axes>"
            ]
          },
          "metadata": {
            "tags": [],
            "needs_background": "light"
          }
        }
      ]
    },
    {
      "cell_type": "code",
      "metadata": {
        "id": "XXEQFoaKaQjK",
        "colab_type": "code",
        "colab": {}
      },
      "source": [
        "#shift image values between 0 and 1\n",
        "train_images = train_images / 255.0\n",
        "test_images = test_images / 255.0"
      ],
      "execution_count": 0,
      "outputs": []
    },
    {
      "cell_type": "code",
      "metadata": {
        "id": "oqFjykw9bKjz",
        "colab_type": "code",
        "colab": {}
      },
      "source": [
        "#build model that has 1 hidden layer with 128 nodes and has 10 classes output\n",
        "# apply Dropout to hidden layer to reduce overfitting\n",
        "model = keras.Sequential([\n",
        "    keras.layers.Flatten(input_shape=(28, 28)),\n",
        "    keras.layers.Dense(128, activation='relu'),\n",
        "    keras.layers.Dense(64, activation='relu'),\n",
        "    keras.layers.Dense(10)\n",
        "])\n",
        "#compile\n",
        "model.compile(\n",
        "              loss=tf.keras.losses.SparseCategoricalCrossentropy(from_logits=True),\n",
        "              metrics=['accuracy'])"
      ],
      "execution_count": 0,
      "outputs": []
    },
    {
      "cell_type": "code",
      "metadata": {
        "id": "9RuUA3UfcmIB",
        "colab_type": "code",
        "outputId": "666cba29-e987-4003-b28d-30e82894a3b0",
        "colab": {
          "base_uri": "https://localhost:8080/",
          "height": 621
        }
      },
      "source": [
        "#train model\n",
        "history = model.fit(train_images, train_labels, epochs=10, verbose=1)\n",
        "plt.plot(np.squeeze(history.history[\"loss\"]))\n",
        "plt.title(\"Non Optimized\")\n",
        "plt.show()"
      ],
      "execution_count": 0,
      "outputs": [
        {
          "output_type": "stream",
          "text": [
            "Epoch 1/10\n",
            "1875/1875 [==============================] - 4s 2ms/step - loss: 0.4997 - accuracy: 0.8217\n",
            "Epoch 2/10\n",
            "1875/1875 [==============================] - 4s 2ms/step - loss: 0.3760 - accuracy: 0.8640\n",
            "Epoch 3/10\n",
            "1875/1875 [==============================] - 5s 2ms/step - loss: 0.3520 - accuracy: 0.8744\n",
            "Epoch 4/10\n",
            "1875/1875 [==============================] - 4s 2ms/step - loss: 0.3392 - accuracy: 0.8808\n",
            "Epoch 5/10\n",
            "1875/1875 [==============================] - 4s 2ms/step - loss: 0.3319 - accuracy: 0.8830\n",
            "Epoch 6/10\n",
            "1875/1875 [==============================] - 4s 2ms/step - loss: 0.3283 - accuracy: 0.8870\n",
            "Epoch 7/10\n",
            "1875/1875 [==============================] - 4s 2ms/step - loss: 0.3234 - accuracy: 0.8876\n",
            "Epoch 8/10\n",
            "1875/1875 [==============================] - 4s 2ms/step - loss: 0.3195 - accuracy: 0.8910\n",
            "Epoch 9/10\n",
            "1875/1875 [==============================] - 4s 2ms/step - loss: 0.3142 - accuracy: 0.8939\n",
            "Epoch 10/10\n",
            "1875/1875 [==============================] - 4s 2ms/step - loss: 0.3116 - accuracy: 0.8961\n"
          ],
          "name": "stdout"
        },
        {
          "output_type": "display_data",
          "data": {
            "image/png": "[encoded data removed]",
            "text/plain": [
              "<Figure size 432x288 with 1 Axes>"
            ]
          },
          "metadata": {
            "tags": [],
            "needs_background": "light"
          }
        }
      ]
    },
    {
      "cell_type": "code",
      "metadata": {
        "id": "WaZ8PXRpcn8_",
        "colab_type": "code",
        "outputId": "e9d2f373-3ba5-479c-8331-4ec74efe389d",
        "colab": {
          "base_uri": "https://localhost:8080/",
          "height": 85
        }
      },
      "source": [
        "# accuracy test\n",
        "test_loss, test_acc = model.evaluate(test_images,  test_labels, verbose=2)\n",
        "\n",
        "print('\\nUnOptimized \\nTest accuracy:', test_acc)\n"
      ],
      "execution_count": 0,
      "outputs": [
        {
          "output_type": "stream",
          "text": [
            "313/313 - 0s - loss: 0.4283 - accuracy: 0.8746\n",
            "\n",
            "UnOptimized \n",
            "Test accuracy: 0.8745999932289124\n"
          ],
          "name": "stdout"
        }
      ]
    },
    {
      "cell_type": "code",
      "metadata": {
        "id": "17NS1ygxWGP-",
        "colab_type": "code",
        "outputId": "32126c50-ffda-42f8-c2b4-ef2093c88b29",
        "colab": {
          "base_uri": "https://localhost:8080/",
          "height": 689
        }
      },
      "source": [
        "# make model with Batch Normalization\n",
        "BN_model = keras.Sequential([\n",
        "    keras.layers.Flatten(input_shape=(28, 28)),\n",
        "    keras.layers.Dropout(0.2),\n",
        "    keras.layers.Dense(128),\n",
        "    keras.layers.BatchNormalization(),\n",
        "    keras.layers.Activation(\"relu\"),\n",
        "    keras.layers.Dense(64),\n",
        "    keras.layers.BatchNormalization(),\n",
        "    keras.layers.Activation(\"relu\"),\n",
        "    keras.layers.Dense(10)\n",
        "])\n",
        "#compile\n",
        "BN_model.compile(optimizer=\"adam\",\n",
        "              loss=tf.keras.losses.SparseCategoricalCrossentropy(from_logits=True),\n",
        "              metrics=['accuracy'])\n",
        "\n",
        "#train model\n",
        "history = BN_model.fit(train_images, train_labels, epochs=10, verbose=1, batch_size = 16)\n",
        "plt.plot(np.squeeze(history.history[\"loss\"]))\n",
        "plt.title(\"Batch Normalized\")\n",
        "plt.show()\n",
        "# accuracy test\n",
        "test_loss, test_acc = BN_model.evaluate(test_images,  test_labels, verbose=2)\n",
        "print('\\nUnOptimized \\nTest accuracy:', test_acc)"
      ],
      "execution_count": 0,
      "outputs": [
        {
          "output_type": "stream",
          "text": [
            "Epoch 1/10\n",
            "3750/3750 [==============================] - 8s 2ms/step - loss: 0.5617 - accuracy: 0.7996\n",
            "Epoch 2/10\n",
            "3750/3750 [==============================] - 8s 2ms/step - loss: 0.4468 - accuracy: 0.8360\n",
            "Epoch 3/10\n",
            "3750/3750 [==============================] - 8s 2ms/step - loss: 0.4094 - accuracy: 0.8494\n",
            "Epoch 4/10\n",
            "3750/3750 [==============================] - 8s 2ms/step - loss: 0.3863 - accuracy: 0.8571\n",
            "Epoch 5/10\n",
            "3750/3750 [==============================] - 8s 2ms/step - loss: 0.3723 - accuracy: 0.8617\n",
            "Epoch 6/10\n",
            "3750/3750 [==============================] - 8s 2ms/step - loss: 0.3607 - accuracy: 0.8659\n",
            "Epoch 7/10\n",
            "3750/3750 [==============================] - 8s 2ms/step - loss: 0.3542 - accuracy: 0.8675\n",
            "Epoch 8/10\n",
            "3750/3750 [==============================] - 8s 2ms/step - loss: 0.3471 - accuracy: 0.8718\n",
            "Epoch 9/10\n",
            "3750/3750 [==============================] - 8s 2ms/step - loss: 0.3369 - accuracy: 0.8745\n",
            "Epoch 10/10\n",
            "3750/3750 [==============================] - 8s 2ms/step - loss: 0.3343 - accuracy: 0.8753\n"
          ],
          "name": "stdout"
        },
        {
          "output_type": "display_data",
          "data": {
            "image/png": "[encoded data removed]",
            "text/plain": [
              "<Figure size 432x288 with 1 Axes>"
            ]
          },
          "metadata": {
            "tags": [],
            "needs_background": "light"
          }
        },
        {
          "output_type": "stream",
          "text": [
            "313/313 - 0s - loss: 0.3192 - accuracy: 0.8817\n",
            "\n",
            "UnOptimized \n",
            "Test accuracy: 0.8816999793052673\n"
          ],
          "name": "stdout"
        }
      ]
    },
    {
      "cell_type": "code",
      "metadata": {
        "id": "GzTwvb3ZdubA",
        "colab_type": "code",
        "colab": {}
      },
      "source": [
        "# make predict\n",
        "probability_model = tf.keras.Sequential([model, \n",
        "                                         tf.keras.layers.Softmax()])\n",
        "predictions = probability_model.predict(test_images)\n",
        "title = class_names[np.argmax(predictions[0])]\n",
        "plt.figure()\n",
        "plt.title(title)\n",
        "plt.imshow(test_images[0])\n",
        "plt.show()"
      ],
      "execution_count": 0,
      "outputs": []
    },
    {
      "cell_type": "code",
      "metadata": {
        "id": "VLewgq3lfSAi",
        "colab_type": "code",
        "colab": {}
      },
      "source": [
        ""
      ],
      "execution_count": 0,
      "outputs": []
    }
  ]
}